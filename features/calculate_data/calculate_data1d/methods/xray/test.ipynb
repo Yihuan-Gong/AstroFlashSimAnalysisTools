{
 "cells": [
  {
   "cell_type": "code",
   "execution_count": 9,
   "metadata": {},
   "outputs": [
    {
     "data": {
      "text/plain": [
       "'20.0'"
      ]
     },
     "execution_count": 9,
     "metadata": {},
     "output_type": "execute_result"
    }
   ],
   "source": [
    "a = 20\n",
    "f\"{a:.1f}\""
   ]
  },
  {
   "cell_type": "code",
   "execution_count": 2,
   "metadata": {},
   "outputs": [
    {
     "data": {
      "text/latex": [
       "$[1,~3,~6,~10] \\; \\mathrm{m^{2}}$"
      ],
      "text/plain": [
       "<Quantity [ 1.,  3.,  6., 10.] m2>"
      ]
     },
     "execution_count": 2,
     "metadata": {},
     "output_type": "execute_result"
    }
   ],
   "source": [
    "import numpy as np\n",
    "import astropy.units as u\n",
    "\n",
    "# 创建一个带有单位的 Quantity 数组\n",
    "quantities = np.array([1, 2, 3, 4]) * u.m\n",
    "\n",
    "# 进行累加和操作\n",
    "cumsum_quantities = np.cumsum(quantities*u.Quantity(1, \"m\"))\n",
    "\n",
    "cumsum_quantities"
   ]
  }
 ],
 "metadata": {
  "kernelspec": {
   "display_name": "ytplot3-11",
   "language": "python",
   "name": "python3"
  },
  "language_info": {
   "codemirror_mode": {
    "name": "ipython",
    "version": 3
   },
   "file_extension": ".py",
   "mimetype": "text/x-python",
   "name": "python",
   "nbconvert_exporter": "python",
   "pygments_lexer": "ipython3",
   "version": "3.11.9"
  }
 },
 "nbformat": 4,
 "nbformat_minor": 2
}
