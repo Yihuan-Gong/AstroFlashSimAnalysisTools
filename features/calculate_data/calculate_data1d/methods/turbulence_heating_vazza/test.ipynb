{
 "cells": [
  {
   "cell_type": "code",
   "execution_count": 1,
   "metadata": {},
   "outputs": [],
   "source": [
    "import numpy as np"
   ]
  },
  {
   "cell_type": "code",
   "execution_count": 4,
   "metadata": {},
   "outputs": [
    {
     "data": {
      "text/plain": [
       "5"
      ]
     },
     "execution_count": 4,
     "metadata": {},
     "output_type": "execute_result"
    }
   ],
   "source": [
    "int(np.ceil(4.9))"
   ]
  },
  {
   "cell_type": "code",
   "execution_count": 5,
   "metadata": {},
   "outputs": [],
   "source": [
    "from astropy import units as u"
   ]
  },
  {
   "cell_type": "code",
   "execution_count": 6,
   "metadata": {},
   "outputs": [
    {
     "data": {
      "text/latex": [
       "$3 \\; \\mathrm{cm}$"
      ],
      "text/plain": [
       "<Quantity 3. cm>"
      ]
     },
     "execution_count": 6,
     "metadata": {},
     "output_type": "execute_result"
    }
   ],
   "source": [
    "u.Quantity(1, \"cm\") + u.Quantity(2, \"cm\")"
   ]
  },
  {
   "cell_type": "code",
   "execution_count": 1,
   "metadata": {},
   "outputs": [
    {
     "data": {
      "text/plain": [
       "[2, 3, 4]"
      ]
     },
     "execution_count": 1,
     "metadata": {},
     "output_type": "execute_result"
    }
   ],
   "source": [
    "arr = [1,2,3,4]\n",
    "arr[1:4]"
   ]
  },
  {
   "cell_type": "code",
   "execution_count": 4,
   "metadata": {},
   "outputs": [
    {
     "name": "stdout",
     "output_type": "stream",
     "text": [
      "bb\n"
     ]
    }
   ],
   "source": [
    "a = 2\n",
    "\n",
    "if (a < 1):\n",
    "    print (\"aa\")\n",
    "elif (a < 3):\n",
    "    print (\"bb\")"
   ]
  },
  {
   "cell_type": "code",
   "execution_count": 8,
   "metadata": {},
   "outputs": [
    {
     "name": "stdout",
     "output_type": "stream",
     "text": [
      "(358033,)\n"
     ]
    }
   ],
   "source": [
    "import numpy as np\n",
    "\n",
    "# 假設你的 3D np array 是這樣的\n",
    "array = np.random.random((200, 200, 200))\n",
    "0\n",
    "# 計算每個索引位置與 (5, 5, 5) 的距離\n",
    "x, y, z = np.indices(array.shape)\n",
    "distances = np.sqrt((x - 5)**2 + (y - 5)**2 + (z - 5)**2)\n",
    "\n",
    "# 找出距離小於 4 的位置\n",
    "mask = distances < 80\n",
    "\n",
    "# 選出這些位置的元素\n",
    "result = array[mask]\n",
    "\n",
    "print(result.shape)"
   ]
  },
  {
   "cell_type": "code",
   "execution_count": 10,
   "metadata": {},
   "outputs": [
    {
     "data": {
      "text/latex": [
       "$[0.73688831,~0.74673847,~0.94725131,~\\dots,~0.54052157,~0.21949995,~0.87264885] \\; \\mathrm{m}$"
      ],
      "text/plain": [
       "<Quantity [0.73688831, 0.74673847, 0.94725131, ..., 0.54052157, 0.21949995,\n",
       "           0.87264885] m>"
      ]
     },
     "execution_count": 10,
     "metadata": {},
     "output_type": "execute_result"
    }
   ],
   "source": [
    "import numpy as np\n",
    "import astropy.units as u\n",
    "from astropy.units import Quantity\n",
    "\n",
    "# 假設你的 3D Quantity array 是這樣的\n",
    "array = np.random.random((200, 200, 200)) * u.m\n",
    "\n",
    "# 計算每個索引位置與 (5, 5, 5) 的距離\n",
    "x, y, z = np.indices(array.shape)\n",
    "coordinates = Quantity((x, y, z), unit=u.dimensionless_unscaled)\n",
    "target = Quantity((100, 100, 100), unit=u.dimensionless_unscaled)\n",
    "\n",
    "# 計算距離，並轉換為無量綱數值以便進行比較\n",
    "distances = np.sqrt(((coordinates[0] - target[0])**2 + \n",
    "                     (coordinates[1] - target[1])**2 + \n",
    "                     (coordinates[2] - target[2])**2)) * u.dimensionless_unscaled\n",
    "\n",
    "# 找出距離小於 4 單位的索引\n",
    "mask = distances < 80\n",
    "\n",
    "# 選出這些位置的元素\n",
    "result = array[mask]\n",
    "\n",
    "result"
   ]
  },
  {
   "cell_type": "code",
   "execution_count": 13,
   "metadata": {},
   "outputs": [
    {
     "data": {
      "text/plain": [
       "astropy.units.quantity.Quantity"
      ]
     },
     "execution_count": 13,
     "metadata": {},
     "output_type": "execute_result"
    }
   ],
   "source": [
    "type(array)"
   ]
  }
 ],
 "metadata": {
  "kernelspec": {
   "display_name": "ytplot3-11",
   "language": "python",
   "name": "python3"
  },
  "language_info": {
   "codemirror_mode": {
    "name": "ipython",
    "version": 3
   },
   "file_extension": ".py",
   "mimetype": "text/x-python",
   "name": "python",
   "nbconvert_exporter": "python",
   "pygments_lexer": "ipython3",
   "version": "3.11.9"
  }
 },
 "nbformat": 4,
 "nbformat_minor": 2
}
