{
 "cells": [
  {
   "cell_type": "code",
   "execution_count": 2,
   "metadata": {},
   "outputs": [],
   "source": [
    "from astropy import units as u\n",
    "import astropy"
   ]
  },
  {
   "cell_type": "code",
   "execution_count": 5,
   "metadata": {},
   "outputs": [],
   "source": [
    "a = 1*u.cm"
   ]
  },
  {
   "cell_type": "code",
   "execution_count": 7,
   "metadata": {},
   "outputs": [
    {
     "data": {
      "text/latex": [
       "$5 \\; \\mathrm{cm}$"
      ],
      "text/plain": [
       "<Quantity 5. cm>"
      ]
     },
     "execution_count": 7,
     "metadata": {},
     "output_type": "execute_result"
    }
   ],
   "source": [
    "5 * a.unit"
   ]
  },
  {
   "cell_type": "code",
   "execution_count": 11,
   "metadata": {},
   "outputs": [
    {
     "name": "stdout",
     "output_type": "stream",
     "text": [
      "Method A\n",
      "Method B\n"
     ]
    }
   ],
   "source": [
    "from typing import TypeVar, Protocol\n",
    "from typing_extensions import runtime_checkable\n",
    "\n",
    "# 定义泛型类型\n",
    "T = TypeVar('T')\n",
    "\n",
    "# 定义接口 A，并标记为 @runtime_checkable\n",
    "@runtime_checkable\n",
    "class A(Protocol):\n",
    "    def method_a(self) -> None:\n",
    "        pass\n",
    "\n",
    "# 定义接口 B，并标记为 @runtime_checkable\n",
    "@runtime_checkable\n",
    "class B(Protocol):\n",
    "    def method_b(self) -> None:\n",
    "        pass\n",
    "\n",
    "# 函数接受泛型参数，并要求参数类型符合 A 和 B 接口\n",
    "def my_function(arg: T) -> None:\n",
    "    # 使用 isinstance 来检查参数类型是否符合接口要求\n",
    "    if isinstance(arg, A) and isinstance(arg, B):\n",
    "        arg.method_a()\n",
    "        arg.method_b()\n",
    "    else:\n",
    "        raise TypeError(\"Argument must implement both A and B interfaces\")\n",
    "\n",
    "# 示例类实现了 A 和 B 接口\n",
    "class MyClass(A,B):\n",
    "    def method_a(self) -> None:\n",
    "        print(\"Method A\")\n",
    "\n",
    "    def method_b(self) -> None:\n",
    "        print(\"Method B\")\n",
    "\n",
    "# 实例化 MyClass，并调用 my_function\n",
    "obj = MyClass()\n",
    "my_function(obj)"
   ]
  },
  {
   "cell_type": "code",
   "execution_count": null,
   "metadata": {},
   "outputs": [],
   "source": []
  }
 ],
 "metadata": {
  "kernelspec": {
   "display_name": "ytplot3-11",
   "language": "python",
   "name": "python3"
  },
  "language_info": {
   "codemirror_mode": {
    "name": "ipython",
    "version": 3
   },
   "file_extension": ".py",
   "mimetype": "text/x-python",
   "name": "python",
   "nbconvert_exporter": "python",
   "pygments_lexer": "ipython3",
   "version": "3.11.9"
  }
 },
 "nbformat": 4,
 "nbformat_minor": 2
}
